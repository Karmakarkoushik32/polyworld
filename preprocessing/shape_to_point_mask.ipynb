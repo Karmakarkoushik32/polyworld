{
 "cells": [
  {
   "cell_type": "code",
   "execution_count": 2,
   "metadata": {},
   "outputs": [],
   "source": [
    "import rasterio \n",
    "from shapely.geometry import box, Point\n",
    "from shapely import get_coordinates\n",
    "from rasterio.mask import  geometry_mask\n",
    "import geopandas as gpd\n",
    "import glob, os"
   ]
  },
  {
   "cell_type": "code",
   "execution_count": 3,
   "metadata": {},
   "outputs": [
    {
     "name": "stdout",
     "output_type": "stream",
     "text": [
      "completed => ../sample_datasets/image\\1023_17.tif\n",
      "completed => ../sample_datasets/image\\1023_20.tif\n",
      "completed => ../sample_datasets/image\\1023_21.tif\n",
      "completed => ../sample_datasets/image\\1023_24.tif\n",
      "completed => ../sample_datasets/image\\1023_28.tif\n",
      "completed => ../sample_datasets/image\\1023_29.tif\n",
      "completed => ../sample_datasets/image\\1023_34.tif\n",
      "completed => ../sample_datasets/image\\1023_36.tif\n",
      "completed => ../sample_datasets/image\\1023_37.tif\n",
      "completed => ../sample_datasets/image\\1023_4.tif\n",
      "completed => ../sample_datasets/image\\1023_40.tif\n",
      "completed => ../sample_datasets/image\\1023_42.tif\n",
      "completed => ../sample_datasets/image\\1023_45.tif\n",
      "completed => ../sample_datasets/image\\1023_49.tif\n",
      "completed => ../sample_datasets/image\\1023_50.tif\n",
      "completed => ../sample_datasets/image\\1023_60.tif\n",
      "completed => ../sample_datasets/image\\1023_71.tif\n",
      "completed => ../sample_datasets/image\\1023_78.tif\n",
      "completed => ../sample_datasets/image\\1023_8.tif\n",
      "completed => ../sample_datasets/image\\1023_9.tif\n"
     ]
    }
   ],
   "source": [
    "image_dir = '../sample_datasets/image'\n",
    "shape_path = '../sample_datasets/annotation.geojson'\n",
    "mask_out_path = '../sample_datasets/mask'\n",
    "\n",
    "gdf = gpd.read_file(shape_path)\n",
    "gdf = gpd.GeoSeries(gdf.geometry.apply(lambda geom : [Point(xy) for xy in get_coordinates(geom)[:-1]]).explode()).reset_index(drop=True)\n",
    "\n",
    "for image_path in glob.glob(os.path.join(image_dir, '*.tif')):\n",
    "\n",
    "    filename = os.path.basename(image_path)\n",
    "    with rasterio.open(image_path, 'r') as src:\n",
    "        bbox = box(*src.bounds)\n",
    "        image = src.read()\n",
    "        points = gdf[bbox.contains(gdf)].values\n",
    "        if len(points) == 0:\n",
    "            print(image_path, '<= image has no annotation !')\n",
    "            continue\n",
    "        \n",
    "        mask = geometry_mask(points, out_shape=image[0,:,:].shape, transform=src.transform, invert=True) * 255\n",
    "        out_profile = {\n",
    "            **src.profile,\n",
    "            'count' : 1,\n",
    "        }\n",
    "        with rasterio.open(os.path.join(mask_out_path, filename), 'w', **out_profile) as dst:\n",
    "            dst.write(mask, 1)\n",
    "            \n",
    "    print('completed =>', image_path)"
   ]
  },
  {
   "cell_type": "code",
   "execution_count": null,
   "metadata": {},
   "outputs": [],
   "source": []
  }
 ],
 "metadata": {
  "kernelspec": {
   "display_name": "base",
   "language": "python",
   "name": "python3"
  },
  "language_info": {
   "codemirror_mode": {
    "name": "ipython",
    "version": 3
   },
   "file_extension": ".py",
   "mimetype": "text/x-python",
   "name": "python",
   "nbconvert_exporter": "python",
   "pygments_lexer": "ipython3",
   "version": "3.10.13"
  }
 },
 "nbformat": 4,
 "nbformat_minor": 2
}
